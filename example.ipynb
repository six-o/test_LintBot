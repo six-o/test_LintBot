{
 "cells": [
  {
   "cell_type": "code",
   "execution_count": 1,
   "metadata": {},
   "outputs": [
    {
     "name": "stdout",
     "output_type": "stream",
     "text": [
      "連線成功\n"
     ]
    }
   ],
   "source": [
    "import sqlite3\n",
    "\n",
    "# 連線到 SQLite 資料庫\n",
    "conn = sqlite3.connect('project.sqlite')  # 'example.db' 是資料庫檔案名稱\n",
    "cursor = conn.cursor()  # 建立游標 (cursor) 來執行 SQL 指令\n",
    "\n",
    "print(\"連線成功\")\n"
   ]
  },
  {
   "cell_type": "code",
   "execution_count": 2,
   "metadata": {},
   "outputs": [
    {
     "name": "stdout",
     "output_type": "stream",
     "text": [
      "資料表建立成功\n"
     ]
    }
   ],
   "source": [
    "# 建立資料表\n",
    "cursor.execute('''\n",
    "CREATE TABLE IF NOT EXISTS users (\n",
    "    id INTEGER PRIMARY KEY AUTOINCREMENT,\n",
    "    username TEXT NOT NULL UNIQUE,\n",
    "    password TEXT NOT NULL\n",
    ")\n",
    "''')\n",
    "conn.commit()  # 確保指令執行的變更儲存\n",
    "print(\"資料表建立成功\")"
   ]
  },
  {
   "cell_type": "code",
   "execution_count": 3,
   "metadata": {},
   "outputs": [
    {
     "name": "stdout",
     "output_type": "stream",
     "text": [
      "資料新增成功\n",
      "多筆資料新增成功\n"
     ]
    }
   ],
   "source": [
    "# 新增單筆資料\n",
    "cursor.execute('''\n",
    "INSERT INTO users (username, password)\n",
    "VALUES (?, ?)\n",
    "''', (\"Alice\", \"123456\"))\n",
    "conn.commit()\n",
    "print(\"資料新增成功\")\n",
    "\n",
    "# 新增多筆資料\n",
    "users = [\n",
    "    (\"Bob\", \"456789\"),\n",
    "    (\"Charlie\", \"789123\")\n",
    "]\n",
    "cursor.executemany('''\n",
    "INSERT INTO users (username, password)\n",
    "VALUES (?, ?)\n",
    "''', users)\n",
    "conn.commit()\n",
    "print(\"多筆資料新增成功\")"
   ]
  },
  {
   "cell_type": "code",
   "execution_count": 5,
   "metadata": {},
   "outputs": [
    {
     "name": "stdout",
     "output_type": "stream",
     "text": [
      "資料修改成功\n"
     ]
    }
   ],
   "source": [
    "# 修改資料\n",
    "cursor.execute('''\n",
    "UPDATE users\n",
    "SET password = ?\n",
    "WHERE username = ?\n",
    "''', (\"3563905\", \"Alice\"))\n",
    "conn.commit()\n",
    "print(\"資料修改成功\")"
   ]
  },
  {
   "cell_type": "code",
   "execution_count": 6,
   "metadata": {},
   "outputs": [
    {
     "name": "stdout",
     "output_type": "stream",
     "text": [
      "(1, 'Alice', '3563905')\n",
      "(2, 'Bob', '456789')\n",
      "(3, 'Charlie', '789123')\n"
     ]
    }
   ],
   "source": [
    "# 查詢所有資料\n",
    "cursor.execute('SELECT * FROM users')\n",
    "rows = cursor.fetchall()  # 取得所有結果\n",
    "\n",
    "for row in rows:\n",
    "    print(row)"
   ]
  },
  {
   "cell_type": "code",
   "execution_count": 25,
   "metadata": {},
   "outputs": [
    {
     "name": "stdout",
     "output_type": "stream",
     "text": [
      "(2, 'Bob', '456789')\n"
     ]
    }
   ],
   "source": [
    "# 查詢特定條件資料\n",
    "cursor.execute('SELECT * FROM users WHERE password = ?', (\"456789\",))\n",
    "rows = cursor.fetchall()\n",
    "\n",
    "for row in rows:\n",
    "    print(row)"
   ]
  },
  {
   "cell_type": "code",
   "execution_count": 26,
   "metadata": {},
   "outputs": [
    {
     "name": "stdout",
     "output_type": "stream",
     "text": [
      "連線已關閉\n"
     ]
    }
   ],
   "source": [
    "cursor.close()  # 關閉游標\n",
    "conn.close()    # 關閉連線\n",
    "print(\"連線已關閉\")"
   ]
  }
 ],
 "metadata": {
  "kernelspec": {
   "display_name": "Python 3",
   "language": "python",
   "name": "python3"
  },
  "language_info": {
   "codemirror_mode": {
    "name": "ipython",
    "version": 3
   },
   "file_extension": ".py",
   "mimetype": "text/x-python",
   "name": "python",
   "nbconvert_exporter": "python",
   "pygments_lexer": "ipython3",
   "version": "3.13.0"
  }
 },
 "nbformat": 4,
 "nbformat_minor": 2
}
